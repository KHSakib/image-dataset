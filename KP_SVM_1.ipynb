{
  "nbformat": 4,
  "nbformat_minor": 0,
  "metadata": {
    "colab": {
      "name": "KP_SVM_1.ipynb",
      "provenance": []
    },
    "kernelspec": {
      "name": "python3",
      "display_name": "Python 3"
    },
    "language_info": {
      "name": "python"
    }
  },
  "cells": [
    {
      "cell_type": "code",
      "metadata": {
        "id": "-fbvdJ32dbfm",
        "colab": {
          "base_uri": "https://localhost:8080/"
        },
        "outputId": "bcc9fcea-4968-4e75-c479-2ee7b990d7fd"
      },
      "source": [
        "from google.colab import drive\n",
        "drive.mount('/content/gdrive')"
      ],
      "execution_count": 1,
      "outputs": [
        {
          "output_type": "stream",
          "name": "stdout",
          "text": [
            "Mounted at /content/gdrive\n"
          ]
        }
      ]
    },
    {
      "cell_type": "code",
      "metadata": {
        "id": "7Hm0C_qtA1Oz"
      },
      "source": [
        "import pandas as pd\n",
        "import numpy as np\n",
        "import matplotlib.pyplot as splt\n",
        "import seaborn"
      ],
      "execution_count": 2,
      "outputs": []
    },
    {
      "cell_type": "code",
      "metadata": {
        "colab": {
          "base_uri": "https://localhost:8080/",
          "height": 476
        },
        "id": "YmrGwN5gA4mF",
        "outputId": "9419b721-baba-4eb7-f531-6b56dc06cf72"
      },
      "source": [
        "df = pd.read_excel('/content/gdrive/MyDrive/Data set/100_row dataset(demo).xlsx')\n",
        "df"
      ],
      "execution_count": 24,
      "outputs": [
        {
          "output_type": "execute_result",
          "data": {
            "text/html": [
              "<div>\n",
              "<style scoped>\n",
              "    .dataframe tbody tr th:only-of-type {\n",
              "        vertical-align: middle;\n",
              "    }\n",
              "\n",
              "    .dataframe tbody tr th {\n",
              "        vertical-align: top;\n",
              "    }\n",
              "\n",
              "    .dataframe thead th {\n",
              "        text-align: right;\n",
              "    }\n",
              "</style>\n",
              "<table border=\"1\" class=\"dataframe\">\n",
              "  <thead>\n",
              "    <tr style=\"text-align: right;\">\n",
              "      <th></th>\n",
              "      <th>Unnamed: 0</th>\n",
              "      <th>Divergence</th>\n",
              "      <th>Geopotential</th>\n",
              "      <th>Ozone mass mixing ratio</th>\n",
              "      <th>Potential vorticity</th>\n",
              "      <th>Relative humidity</th>\n",
              "      <th>Specific humidity</th>\n",
              "      <th>Temperature</th>\n",
              "      <th>U component of wind</th>\n",
              "      <th>V component of wind</th>\n",
              "      <th>Vertical velocity</th>\n",
              "      <th>Vorticity (relative)</th>\n",
              "      <th>label</th>\n",
              "    </tr>\n",
              "  </thead>\n",
              "  <tbody>\n",
              "    <tr>\n",
              "      <th>0</th>\n",
              "      <td>0</td>\n",
              "      <td>0.601915</td>\n",
              "      <td>0.937064</td>\n",
              "      <td>0.212164</td>\n",
              "      <td>0.712732</td>\n",
              "      <td>0.003987</td>\n",
              "      <td>0.665960</td>\n",
              "      <td>0.805146</td>\n",
              "      <td>0.117980</td>\n",
              "      <td>0.451009</td>\n",
              "      <td>0.394114</td>\n",
              "      <td>0.602212</td>\n",
              "      <td>0</td>\n",
              "    </tr>\n",
              "    <tr>\n",
              "      <th>1</th>\n",
              "      <td>1</td>\n",
              "      <td>0.462063</td>\n",
              "      <td>0.934499</td>\n",
              "      <td>0.218306</td>\n",
              "      <td>0.712797</td>\n",
              "      <td>0.003363</td>\n",
              "      <td>0.663129</td>\n",
              "      <td>0.822748</td>\n",
              "      <td>0.104335</td>\n",
              "      <td>0.468708</td>\n",
              "      <td>0.485907</td>\n",
              "      <td>0.607871</td>\n",
              "      <td>0</td>\n",
              "    </tr>\n",
              "    <tr>\n",
              "      <th>2</th>\n",
              "      <td>2</td>\n",
              "      <td>0.565063</td>\n",
              "      <td>0.903445</td>\n",
              "      <td>0.258930</td>\n",
              "      <td>0.733202</td>\n",
              "      <td>0.005373</td>\n",
              "      <td>0.627801</td>\n",
              "      <td>0.767802</td>\n",
              "      <td>0.096466</td>\n",
              "      <td>0.492014</td>\n",
              "      <td>0.548441</td>\n",
              "      <td>0.656121</td>\n",
              "      <td>1</td>\n",
              "    </tr>\n",
              "    <tr>\n",
              "      <th>3</th>\n",
              "      <td>3</td>\n",
              "      <td>0.573318</td>\n",
              "      <td>0.904244</td>\n",
              "      <td>0.255910</td>\n",
              "      <td>0.740352</td>\n",
              "      <td>0.005001</td>\n",
              "      <td>0.667244</td>\n",
              "      <td>0.778717</td>\n",
              "      <td>0.092391</td>\n",
              "      <td>0.511412</td>\n",
              "      <td>0.626936</td>\n",
              "      <td>0.686636</td>\n",
              "      <td>0</td>\n",
              "    </tr>\n",
              "    <tr>\n",
              "      <th>4</th>\n",
              "      <td>4</td>\n",
              "      <td>0.369882</td>\n",
              "      <td>0.893428</td>\n",
              "      <td>0.256482</td>\n",
              "      <td>0.746796</td>\n",
              "      <td>0.004184</td>\n",
              "      <td>0.679458</td>\n",
              "      <td>0.799196</td>\n",
              "      <td>0.082747</td>\n",
              "      <td>0.465781</td>\n",
              "      <td>0.545399</td>\n",
              "      <td>0.682656</td>\n",
              "      <td>0</td>\n",
              "    </tr>\n",
              "    <tr>\n",
              "      <th>...</th>\n",
              "      <td>...</td>\n",
              "      <td>...</td>\n",
              "      <td>...</td>\n",
              "      <td>...</td>\n",
              "      <td>...</td>\n",
              "      <td>...</td>\n",
              "      <td>...</td>\n",
              "      <td>...</td>\n",
              "      <td>...</td>\n",
              "      <td>...</td>\n",
              "      <td>...</td>\n",
              "      <td>...</td>\n",
              "      <td>...</td>\n",
              "    </tr>\n",
              "    <tr>\n",
              "      <th>97</th>\n",
              "      <td>97</td>\n",
              "      <td>0.508892</td>\n",
              "      <td>0.682598</td>\n",
              "      <td>0.414382</td>\n",
              "      <td>0.729203</td>\n",
              "      <td>0.016695</td>\n",
              "      <td>0.189051</td>\n",
              "      <td>0.603147</td>\n",
              "      <td>0.454984</td>\n",
              "      <td>0.428501</td>\n",
              "      <td>0.516431</td>\n",
              "      <td>0.649948</td>\n",
              "      <td>0</td>\n",
              "    </tr>\n",
              "    <tr>\n",
              "      <th>98</th>\n",
              "      <td>98</td>\n",
              "      <td>0.507481</td>\n",
              "      <td>0.674614</td>\n",
              "      <td>0.411798</td>\n",
              "      <td>0.724659</td>\n",
              "      <td>0.017808</td>\n",
              "      <td>0.264353</td>\n",
              "      <td>0.595850</td>\n",
              "      <td>0.477947</td>\n",
              "      <td>0.430973</td>\n",
              "      <td>0.519011</td>\n",
              "      <td>0.653901</td>\n",
              "      <td>0</td>\n",
              "    </tr>\n",
              "    <tr>\n",
              "      <th>99</th>\n",
              "      <td>99</td>\n",
              "      <td>0.610273</td>\n",
              "      <td>0.664751</td>\n",
              "      <td>0.433148</td>\n",
              "      <td>0.736701</td>\n",
              "      <td>0.019333</td>\n",
              "      <td>0.220900</td>\n",
              "      <td>0.582747</td>\n",
              "      <td>0.485699</td>\n",
              "      <td>0.426433</td>\n",
              "      <td>0.496650</td>\n",
              "      <td>0.649315</td>\n",
              "      <td>0</td>\n",
              "    </tr>\n",
              "    <tr>\n",
              "      <th>100</th>\n",
              "      <td>100</td>\n",
              "      <td>0.457933</td>\n",
              "      <td>0.670489</td>\n",
              "      <td>0.382188</td>\n",
              "      <td>0.749654</td>\n",
              "      <td>0.012937</td>\n",
              "      <td>0.171109</td>\n",
              "      <td>0.639538</td>\n",
              "      <td>0.470888</td>\n",
              "      <td>0.440228</td>\n",
              "      <td>0.429275</td>\n",
              "      <td>0.663197</td>\n",
              "      <td>0</td>\n",
              "    </tr>\n",
              "    <tr>\n",
              "      <th>101</th>\n",
              "      <td>101</td>\n",
              "      <td>0.501286</td>\n",
              "      <td>0.682603</td>\n",
              "      <td>0.403909</td>\n",
              "      <td>0.743533</td>\n",
              "      <td>0.015321</td>\n",
              "      <td>0.206717</td>\n",
              "      <td>0.616168</td>\n",
              "      <td>0.488155</td>\n",
              "      <td>0.419395</td>\n",
              "      <td>0.498039</td>\n",
              "      <td>0.664515</td>\n",
              "      <td>1</td>\n",
              "    </tr>\n",
              "  </tbody>\n",
              "</table>\n",
              "<p>102 rows × 13 columns</p>\n",
              "</div>"
            ],
            "text/plain": [
              "     Unnamed: 0  Divergence  ...  Vorticity (relative)  label\n",
              "0             0    0.601915  ...              0.602212      0\n",
              "1             1    0.462063  ...              0.607871      0\n",
              "2             2    0.565063  ...              0.656121      1\n",
              "3             3    0.573318  ...              0.686636      0\n",
              "4             4    0.369882  ...              0.682656      0\n",
              "..          ...         ...  ...                   ...    ...\n",
              "97           97    0.508892  ...              0.649948      0\n",
              "98           98    0.507481  ...              0.653901      0\n",
              "99           99    0.610273  ...              0.649315      0\n",
              "100         100    0.457933  ...              0.663197      0\n",
              "101         101    0.501286  ...              0.664515      1\n",
              "\n",
              "[102 rows x 13 columns]"
            ]
          },
          "metadata": {},
          "execution_count": 24
        }
      ]
    },
    {
      "cell_type": "code",
      "metadata": {
        "colab": {
          "base_uri": "https://localhost:8080/"
        },
        "id": "mZ9UbreFELoK",
        "outputId": "a9fd46a5-7c56-4545-9258-380fb8720f0d"
      },
      "source": [
        "df.shape"
      ],
      "execution_count": 25,
      "outputs": [
        {
          "output_type": "execute_result",
          "data": {
            "text/plain": [
              "(102, 13)"
            ]
          },
          "metadata": {},
          "execution_count": 25
        }
      ]
    },
    {
      "cell_type": "code",
      "metadata": {
        "colab": {
          "base_uri": "https://localhost:8080/"
        },
        "id": "huhCYhRyKPFa",
        "outputId": "5d273be9-83b9-47bb-c77a-92efe736975c"
      },
      "source": [
        "df.isnull().sum()"
      ],
      "execution_count": 26,
      "outputs": [
        {
          "output_type": "execute_result",
          "data": {
            "text/plain": [
              "Unnamed: 0                 0\n",
              "Divergence                 0\n",
              "Geopotential               0\n",
              "Ozone mass mixing ratio    0\n",
              "Potential vorticity        0\n",
              "Relative humidity          0\n",
              "Specific humidity          0\n",
              "Temperature                0\n",
              "U component of wind        0\n",
              "V component of wind        0\n",
              "Vertical velocity          0\n",
              "Vorticity (relative)       0\n",
              "label                      0\n",
              "dtype: int64"
            ]
          },
          "metadata": {},
          "execution_count": 26
        }
      ]
    },
    {
      "cell_type": "code",
      "metadata": {
        "id": "sBDQd098FLpJ"
      },
      "source": [
        "x = df.drop(['label'], axis=1)"
      ],
      "execution_count": 28,
      "outputs": []
    },
    {
      "cell_type": "code",
      "metadata": {
        "colab": {
          "base_uri": "https://localhost:8080/",
          "height": 458
        },
        "id": "4k2ZM7-cFj-7",
        "outputId": "372d7d1b-2877-4e33-bb64-4d75d2e81d0f"
      },
      "source": [
        "x"
      ],
      "execution_count": 29,
      "outputs": [
        {
          "output_type": "execute_result",
          "data": {
            "text/html": [
              "<div>\n",
              "<style scoped>\n",
              "    .dataframe tbody tr th:only-of-type {\n",
              "        vertical-align: middle;\n",
              "    }\n",
              "\n",
              "    .dataframe tbody tr th {\n",
              "        vertical-align: top;\n",
              "    }\n",
              "\n",
              "    .dataframe thead th {\n",
              "        text-align: right;\n",
              "    }\n",
              "</style>\n",
              "<table border=\"1\" class=\"dataframe\">\n",
              "  <thead>\n",
              "    <tr style=\"text-align: right;\">\n",
              "      <th></th>\n",
              "      <th>Unnamed: 0</th>\n",
              "      <th>Divergence</th>\n",
              "      <th>Geopotential</th>\n",
              "      <th>Ozone mass mixing ratio</th>\n",
              "      <th>Potential vorticity</th>\n",
              "      <th>Relative humidity</th>\n",
              "      <th>Specific humidity</th>\n",
              "      <th>Temperature</th>\n",
              "      <th>U component of wind</th>\n",
              "      <th>V component of wind</th>\n",
              "      <th>Vertical velocity</th>\n",
              "      <th>Vorticity (relative)</th>\n",
              "    </tr>\n",
              "  </thead>\n",
              "  <tbody>\n",
              "    <tr>\n",
              "      <th>0</th>\n",
              "      <td>0</td>\n",
              "      <td>0.601915</td>\n",
              "      <td>0.937064</td>\n",
              "      <td>0.212164</td>\n",
              "      <td>0.712732</td>\n",
              "      <td>0.003987</td>\n",
              "      <td>0.665960</td>\n",
              "      <td>0.805146</td>\n",
              "      <td>0.117980</td>\n",
              "      <td>0.451009</td>\n",
              "      <td>0.394114</td>\n",
              "      <td>0.602212</td>\n",
              "    </tr>\n",
              "    <tr>\n",
              "      <th>1</th>\n",
              "      <td>1</td>\n",
              "      <td>0.462063</td>\n",
              "      <td>0.934499</td>\n",
              "      <td>0.218306</td>\n",
              "      <td>0.712797</td>\n",
              "      <td>0.003363</td>\n",
              "      <td>0.663129</td>\n",
              "      <td>0.822748</td>\n",
              "      <td>0.104335</td>\n",
              "      <td>0.468708</td>\n",
              "      <td>0.485907</td>\n",
              "      <td>0.607871</td>\n",
              "    </tr>\n",
              "    <tr>\n",
              "      <th>2</th>\n",
              "      <td>2</td>\n",
              "      <td>0.565063</td>\n",
              "      <td>0.903445</td>\n",
              "      <td>0.258930</td>\n",
              "      <td>0.733202</td>\n",
              "      <td>0.005373</td>\n",
              "      <td>0.627801</td>\n",
              "      <td>0.767802</td>\n",
              "      <td>0.096466</td>\n",
              "      <td>0.492014</td>\n",
              "      <td>0.548441</td>\n",
              "      <td>0.656121</td>\n",
              "    </tr>\n",
              "    <tr>\n",
              "      <th>3</th>\n",
              "      <td>3</td>\n",
              "      <td>0.573318</td>\n",
              "      <td>0.904244</td>\n",
              "      <td>0.255910</td>\n",
              "      <td>0.740352</td>\n",
              "      <td>0.005001</td>\n",
              "      <td>0.667244</td>\n",
              "      <td>0.778717</td>\n",
              "      <td>0.092391</td>\n",
              "      <td>0.511412</td>\n",
              "      <td>0.626936</td>\n",
              "      <td>0.686636</td>\n",
              "    </tr>\n",
              "    <tr>\n",
              "      <th>4</th>\n",
              "      <td>4</td>\n",
              "      <td>0.369882</td>\n",
              "      <td>0.893428</td>\n",
              "      <td>0.256482</td>\n",
              "      <td>0.746796</td>\n",
              "      <td>0.004184</td>\n",
              "      <td>0.679458</td>\n",
              "      <td>0.799196</td>\n",
              "      <td>0.082747</td>\n",
              "      <td>0.465781</td>\n",
              "      <td>0.545399</td>\n",
              "      <td>0.682656</td>\n",
              "    </tr>\n",
              "    <tr>\n",
              "      <th>...</th>\n",
              "      <td>...</td>\n",
              "      <td>...</td>\n",
              "      <td>...</td>\n",
              "      <td>...</td>\n",
              "      <td>...</td>\n",
              "      <td>...</td>\n",
              "      <td>...</td>\n",
              "      <td>...</td>\n",
              "      <td>...</td>\n",
              "      <td>...</td>\n",
              "      <td>...</td>\n",
              "      <td>...</td>\n",
              "    </tr>\n",
              "    <tr>\n",
              "      <th>97</th>\n",
              "      <td>97</td>\n",
              "      <td>0.508892</td>\n",
              "      <td>0.682598</td>\n",
              "      <td>0.414382</td>\n",
              "      <td>0.729203</td>\n",
              "      <td>0.016695</td>\n",
              "      <td>0.189051</td>\n",
              "      <td>0.603147</td>\n",
              "      <td>0.454984</td>\n",
              "      <td>0.428501</td>\n",
              "      <td>0.516431</td>\n",
              "      <td>0.649948</td>\n",
              "    </tr>\n",
              "    <tr>\n",
              "      <th>98</th>\n",
              "      <td>98</td>\n",
              "      <td>0.507481</td>\n",
              "      <td>0.674614</td>\n",
              "      <td>0.411798</td>\n",
              "      <td>0.724659</td>\n",
              "      <td>0.017808</td>\n",
              "      <td>0.264353</td>\n",
              "      <td>0.595850</td>\n",
              "      <td>0.477947</td>\n",
              "      <td>0.430973</td>\n",
              "      <td>0.519011</td>\n",
              "      <td>0.653901</td>\n",
              "    </tr>\n",
              "    <tr>\n",
              "      <th>99</th>\n",
              "      <td>99</td>\n",
              "      <td>0.610273</td>\n",
              "      <td>0.664751</td>\n",
              "      <td>0.433148</td>\n",
              "      <td>0.736701</td>\n",
              "      <td>0.019333</td>\n",
              "      <td>0.220900</td>\n",
              "      <td>0.582747</td>\n",
              "      <td>0.485699</td>\n",
              "      <td>0.426433</td>\n",
              "      <td>0.496650</td>\n",
              "      <td>0.649315</td>\n",
              "    </tr>\n",
              "    <tr>\n",
              "      <th>100</th>\n",
              "      <td>100</td>\n",
              "      <td>0.457933</td>\n",
              "      <td>0.670489</td>\n",
              "      <td>0.382188</td>\n",
              "      <td>0.749654</td>\n",
              "      <td>0.012937</td>\n",
              "      <td>0.171109</td>\n",
              "      <td>0.639538</td>\n",
              "      <td>0.470888</td>\n",
              "      <td>0.440228</td>\n",
              "      <td>0.429275</td>\n",
              "      <td>0.663197</td>\n",
              "    </tr>\n",
              "    <tr>\n",
              "      <th>101</th>\n",
              "      <td>101</td>\n",
              "      <td>0.501286</td>\n",
              "      <td>0.682603</td>\n",
              "      <td>0.403909</td>\n",
              "      <td>0.743533</td>\n",
              "      <td>0.015321</td>\n",
              "      <td>0.206717</td>\n",
              "      <td>0.616168</td>\n",
              "      <td>0.488155</td>\n",
              "      <td>0.419395</td>\n",
              "      <td>0.498039</td>\n",
              "      <td>0.664515</td>\n",
              "    </tr>\n",
              "  </tbody>\n",
              "</table>\n",
              "<p>102 rows × 12 columns</p>\n",
              "</div>"
            ],
            "text/plain": [
              "     Unnamed: 0  Divergence  ...  Vertical velocity  Vorticity (relative)\n",
              "0             0    0.601915  ...           0.394114              0.602212\n",
              "1             1    0.462063  ...           0.485907              0.607871\n",
              "2             2    0.565063  ...           0.548441              0.656121\n",
              "3             3    0.573318  ...           0.626936              0.686636\n",
              "4             4    0.369882  ...           0.545399              0.682656\n",
              "..          ...         ...  ...                ...                   ...\n",
              "97           97    0.508892  ...           0.516431              0.649948\n",
              "98           98    0.507481  ...           0.519011              0.653901\n",
              "99           99    0.610273  ...           0.496650              0.649315\n",
              "100         100    0.457933  ...           0.429275              0.663197\n",
              "101         101    0.501286  ...           0.498039              0.664515\n",
              "\n",
              "[102 rows x 12 columns]"
            ]
          },
          "metadata": {},
          "execution_count": 29
        }
      ]
    },
    {
      "cell_type": "code",
      "metadata": {
        "id": "R-_GrOobFvNa"
      },
      "source": [
        "y = df['label']"
      ],
      "execution_count": 30,
      "outputs": []
    },
    {
      "cell_type": "code",
      "metadata": {
        "colab": {
          "base_uri": "https://localhost:8080/"
        },
        "id": "U--kH66hF3M7",
        "outputId": "faf826d2-0b6e-4a7d-82e7-b7ab80b0f363"
      },
      "source": [
        "y"
      ],
      "execution_count": 31,
      "outputs": [
        {
          "output_type": "execute_result",
          "data": {
            "text/plain": [
              "0      0\n",
              "1      0\n",
              "2      1\n",
              "3      0\n",
              "4      0\n",
              "      ..\n",
              "97     0\n",
              "98     0\n",
              "99     0\n",
              "100    0\n",
              "101    1\n",
              "Name: label, Length: 102, dtype: int64"
            ]
          },
          "metadata": {},
          "execution_count": 31
        }
      ]
    },
    {
      "cell_type": "code",
      "metadata": {
        "id": "V7ivKwijHZym"
      },
      "source": [
        "from sklearn.model_selection import train_test_split\n",
        "from sklearn.svm import SVC"
      ],
      "execution_count": 32,
      "outputs": []
    },
    {
      "cell_type": "code",
      "metadata": {
        "id": "9p1wcd6BHn3d"
      },
      "source": [
        "xtrain, xtest, ytrain, ytest = train_test_split(x,y,test_size=.25,random_state = 1)"
      ],
      "execution_count": 33,
      "outputs": []
    },
    {
      "cell_type": "code",
      "metadata": {
        "colab": {
          "base_uri": "https://localhost:8080/",
          "height": 458
        },
        "id": "2REEW8qXJFVS",
        "outputId": "3af5f005-e9cb-4d70-b143-1be7f7556759"
      },
      "source": [
        "xtrain"
      ],
      "execution_count": 34,
      "outputs": [
        {
          "output_type": "execute_result",
          "data": {
            "text/html": [
              "<div>\n",
              "<style scoped>\n",
              "    .dataframe tbody tr th:only-of-type {\n",
              "        vertical-align: middle;\n",
              "    }\n",
              "\n",
              "    .dataframe tbody tr th {\n",
              "        vertical-align: top;\n",
              "    }\n",
              "\n",
              "    .dataframe thead th {\n",
              "        text-align: right;\n",
              "    }\n",
              "</style>\n",
              "<table border=\"1\" class=\"dataframe\">\n",
              "  <thead>\n",
              "    <tr style=\"text-align: right;\">\n",
              "      <th></th>\n",
              "      <th>Unnamed: 0</th>\n",
              "      <th>Divergence</th>\n",
              "      <th>Geopotential</th>\n",
              "      <th>Ozone mass mixing ratio</th>\n",
              "      <th>Potential vorticity</th>\n",
              "      <th>Relative humidity</th>\n",
              "      <th>Specific humidity</th>\n",
              "      <th>Temperature</th>\n",
              "      <th>U component of wind</th>\n",
              "      <th>V component of wind</th>\n",
              "      <th>Vertical velocity</th>\n",
              "      <th>Vorticity (relative)</th>\n",
              "    </tr>\n",
              "  </thead>\n",
              "  <tbody>\n",
              "    <tr>\n",
              "      <th>42</th>\n",
              "      <td>42</td>\n",
              "      <td>0.443661</td>\n",
              "      <td>0.883657</td>\n",
              "      <td>0.302760</td>\n",
              "      <td>0.771811</td>\n",
              "      <td>0.005101</td>\n",
              "      <td>0.383819</td>\n",
              "      <td>0.767167</td>\n",
              "      <td>0.179452</td>\n",
              "      <td>0.469190</td>\n",
              "      <td>0.556318</td>\n",
              "      <td>0.709062</td>\n",
              "    </tr>\n",
              "    <tr>\n",
              "      <th>10</th>\n",
              "      <td>10</td>\n",
              "      <td>0.448585</td>\n",
              "      <td>0.882907</td>\n",
              "      <td>0.234170</td>\n",
              "      <td>0.730144</td>\n",
              "      <td>0.003218</td>\n",
              "      <td>0.650383</td>\n",
              "      <td>0.826665</td>\n",
              "      <td>0.090086</td>\n",
              "      <td>0.539173</td>\n",
              "      <td>0.575264</td>\n",
              "      <td>0.654427</td>\n",
              "    </tr>\n",
              "    <tr>\n",
              "      <th>2</th>\n",
              "      <td>2</td>\n",
              "      <td>0.565063</td>\n",
              "      <td>0.903445</td>\n",
              "      <td>0.258930</td>\n",
              "      <td>0.733202</td>\n",
              "      <td>0.005373</td>\n",
              "      <td>0.627801</td>\n",
              "      <td>0.767802</td>\n",
              "      <td>0.096466</td>\n",
              "      <td>0.492014</td>\n",
              "      <td>0.548441</td>\n",
              "      <td>0.656121</td>\n",
              "    </tr>\n",
              "    <tr>\n",
              "      <th>54</th>\n",
              "      <td>54</td>\n",
              "      <td>0.446740</td>\n",
              "      <td>0.800618</td>\n",
              "      <td>0.383709</td>\n",
              "      <td>0.746692</td>\n",
              "      <td>0.010333</td>\n",
              "      <td>0.398768</td>\n",
              "      <td>0.677183</td>\n",
              "      <td>0.167076</td>\n",
              "      <td>0.468056</td>\n",
              "      <td>0.568754</td>\n",
              "      <td>0.682944</td>\n",
              "    </tr>\n",
              "    <tr>\n",
              "      <th>67</th>\n",
              "      <td>67</td>\n",
              "      <td>0.632534</td>\n",
              "      <td>0.839833</td>\n",
              "      <td>0.341551</td>\n",
              "      <td>0.744344</td>\n",
              "      <td>0.010592</td>\n",
              "      <td>0.227403</td>\n",
              "      <td>0.668875</td>\n",
              "      <td>0.301843</td>\n",
              "      <td>0.450211</td>\n",
              "      <td>0.480455</td>\n",
              "      <td>0.658198</td>\n",
              "    </tr>\n",
              "    <tr>\n",
              "      <th>...</th>\n",
              "      <td>...</td>\n",
              "      <td>...</td>\n",
              "      <td>...</td>\n",
              "      <td>...</td>\n",
              "      <td>...</td>\n",
              "      <td>...</td>\n",
              "      <td>...</td>\n",
              "      <td>...</td>\n",
              "      <td>...</td>\n",
              "      <td>...</td>\n",
              "      <td>...</td>\n",
              "      <td>...</td>\n",
              "    </tr>\n",
              "    <tr>\n",
              "      <th>75</th>\n",
              "      <td>75</td>\n",
              "      <td>0.489754</td>\n",
              "      <td>0.772651</td>\n",
              "      <td>0.364250</td>\n",
              "      <td>0.757632</td>\n",
              "      <td>0.010637</td>\n",
              "      <td>0.287928</td>\n",
              "      <td>0.669961</td>\n",
              "      <td>0.355863</td>\n",
              "      <td>0.452980</td>\n",
              "      <td>0.506563</td>\n",
              "      <td>0.685379</td>\n",
              "    </tr>\n",
              "    <tr>\n",
              "      <th>9</th>\n",
              "      <td>9</td>\n",
              "      <td>0.442521</td>\n",
              "      <td>0.874561</td>\n",
              "      <td>0.264221</td>\n",
              "      <td>0.738053</td>\n",
              "      <td>0.003986</td>\n",
              "      <td>0.621441</td>\n",
              "      <td>0.802904</td>\n",
              "      <td>0.089522</td>\n",
              "      <td>0.448952</td>\n",
              "      <td>0.570810</td>\n",
              "      <td>0.672843</td>\n",
              "    </tr>\n",
              "    <tr>\n",
              "      <th>72</th>\n",
              "      <td>72</td>\n",
              "      <td>0.464759</td>\n",
              "      <td>0.809704</td>\n",
              "      <td>0.322610</td>\n",
              "      <td>0.686921</td>\n",
              "      <td>0.007383</td>\n",
              "      <td>0.317971</td>\n",
              "      <td>0.720590</td>\n",
              "      <td>0.285142</td>\n",
              "      <td>0.464859</td>\n",
              "      <td>0.537722</td>\n",
              "      <td>0.634478</td>\n",
              "    </tr>\n",
              "    <tr>\n",
              "      <th>12</th>\n",
              "      <td>12</td>\n",
              "      <td>0.507523</td>\n",
              "      <td>0.892944</td>\n",
              "      <td>0.295893</td>\n",
              "      <td>0.752168</td>\n",
              "      <td>0.006217</td>\n",
              "      <td>0.571219</td>\n",
              "      <td>0.749506</td>\n",
              "      <td>0.078411</td>\n",
              "      <td>0.431969</td>\n",
              "      <td>0.646248</td>\n",
              "      <td>0.663211</td>\n",
              "    </tr>\n",
              "    <tr>\n",
              "      <th>37</th>\n",
              "      <td>37</td>\n",
              "      <td>0.449876</td>\n",
              "      <td>0.863565</td>\n",
              "      <td>0.322089</td>\n",
              "      <td>0.749818</td>\n",
              "      <td>0.006677</td>\n",
              "      <td>0.436413</td>\n",
              "      <td>0.735888</td>\n",
              "      <td>0.153691</td>\n",
              "      <td>0.453899</td>\n",
              "      <td>0.526670</td>\n",
              "      <td>0.679552</td>\n",
              "    </tr>\n",
              "  </tbody>\n",
              "</table>\n",
              "<p>76 rows × 12 columns</p>\n",
              "</div>"
            ],
            "text/plain": [
              "    Unnamed: 0  Divergence  ...  Vertical velocity  Vorticity (relative)\n",
              "42          42    0.443661  ...           0.556318              0.709062\n",
              "10          10    0.448585  ...           0.575264              0.654427\n",
              "2            2    0.565063  ...           0.548441              0.656121\n",
              "54          54    0.446740  ...           0.568754              0.682944\n",
              "67          67    0.632534  ...           0.480455              0.658198\n",
              "..         ...         ...  ...                ...                   ...\n",
              "75          75    0.489754  ...           0.506563              0.685379\n",
              "9            9    0.442521  ...           0.570810              0.672843\n",
              "72          72    0.464759  ...           0.537722              0.634478\n",
              "12          12    0.507523  ...           0.646248              0.663211\n",
              "37          37    0.449876  ...           0.526670              0.679552\n",
              "\n",
              "[76 rows x 12 columns]"
            ]
          },
          "metadata": {},
          "execution_count": 34
        }
      ]
    },
    {
      "cell_type": "code",
      "metadata": {
        "id": "tPVdowaiJkDR"
      },
      "source": [
        "model = SVC(gamma='auto')\n",
        "#model = SVC(kernel='linear',C=1.0)"
      ],
      "execution_count": 36,
      "outputs": []
    },
    {
      "cell_type": "code",
      "metadata": {
        "colab": {
          "base_uri": "https://localhost:8080/"
        },
        "id": "gY1XNpWYkyxp",
        "outputId": "6382b918-7af4-46d8-c593-4cd62c715da4"
      },
      "source": [
        "x.shape"
      ],
      "execution_count": 37,
      "outputs": [
        {
          "output_type": "execute_result",
          "data": {
            "text/plain": [
              "(102, 12)"
            ]
          },
          "metadata": {},
          "execution_count": 37
        }
      ]
    },
    {
      "cell_type": "code",
      "metadata": {
        "colab": {
          "base_uri": "https://localhost:8080/"
        },
        "id": "s2e3QC6wJpMp",
        "outputId": "e9aee0e3-b14e-47ac-8e41-c51bdcce787e"
      },
      "source": [
        "model.fit(xtrain,ytrain)"
      ],
      "execution_count": 38,
      "outputs": [
        {
          "output_type": "execute_result",
          "data": {
            "text/plain": [
              "SVC(C=1.0, break_ties=False, cache_size=200, class_weight=None, coef0=0.0,\n",
              "    decision_function_shape='ovr', degree=3, gamma='auto', kernel='rbf',\n",
              "    max_iter=-1, probability=False, random_state=None, shrinking=True,\n",
              "    tol=0.001, verbose=False)"
            ]
          },
          "metadata": {},
          "execution_count": 38
        }
      ]
    },
    {
      "cell_type": "code",
      "metadata": {
        "colab": {
          "base_uri": "https://localhost:8080/"
        },
        "id": "FmTLRusnLcz9",
        "outputId": "e5acb3b2-8b0d-4a76-f133-5f27e70f755b"
      },
      "source": [
        "model.score(xtest, ytest)"
      ],
      "execution_count": 39,
      "outputs": [
        {
          "output_type": "execute_result",
          "data": {
            "text/plain": [
              "0.9230769230769231"
            ]
          },
          "metadata": {},
          "execution_count": 39
        }
      ]
    },
    {
      "cell_type": "code",
      "metadata": {
        "id": "uiIEXQbZoOmb"
      },
      "source": [
        "from sklearn.tree import DecisionTreeClassifier"
      ],
      "execution_count": 40,
      "outputs": []
    },
    {
      "cell_type": "code",
      "metadata": {
        "id": "x9HTMhTnoX0h"
      },
      "source": [
        "clf = DecisionTreeClassifier()"
      ],
      "execution_count": 41,
      "outputs": []
    },
    {
      "cell_type": "code",
      "metadata": {
        "colab": {
          "base_uri": "https://localhost:8080/"
        },
        "id": "CPOKUTo6od4I",
        "outputId": "c44a4453-33ea-44da-da9e-2a0b1763bbe7"
      },
      "source": [
        "clf.fit(xtrain,ytrain)"
      ],
      "execution_count": 42,
      "outputs": [
        {
          "output_type": "execute_result",
          "data": {
            "text/plain": [
              "DecisionTreeClassifier(ccp_alpha=0.0, class_weight=None, criterion='gini',\n",
              "                       max_depth=None, max_features=None, max_leaf_nodes=None,\n",
              "                       min_impurity_decrease=0.0, min_impurity_split=None,\n",
              "                       min_samples_leaf=1, min_samples_split=2,\n",
              "                       min_weight_fraction_leaf=0.0, presort='deprecated',\n",
              "                       random_state=None, splitter='best')"
            ]
          },
          "metadata": {},
          "execution_count": 42
        }
      ]
    },
    {
      "cell_type": "code",
      "metadata": {
        "colab": {
          "base_uri": "https://localhost:8080/"
        },
        "id": "jz3xM9iiohrC",
        "outputId": "30cc4c4a-8f3c-4675-b93a-d51c85582f59"
      },
      "source": [
        "clf.score(xtest, ytest)"
      ],
      "execution_count": 43,
      "outputs": [
        {
          "output_type": "execute_result",
          "data": {
            "text/plain": [
              "0.8846153846153846"
            ]
          },
          "metadata": {},
          "execution_count": 43
        }
      ]
    }
  ]
}